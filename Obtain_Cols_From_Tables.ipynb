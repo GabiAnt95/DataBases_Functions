{
 "cells": [
  {
   "cell_type": "markdown",
   "id": "9f1c83ee-e528-452e-a953-78d151b9a881",
   "metadata": {},
   "source": [
    "# Oracle"
   ]
  },
  {
   "cell_type": "code",
   "execution_count": 1,
   "id": "39a8345a-0bb3-4576-a3b7-ffa61d76b707",
   "metadata": {},
   "outputs": [],
   "source": [
    "# Requirements \n",
    "\n",
    "import cx_Oracle\n",
    "import pandas as pd\n",
    "import warnings\n",
    "warnings.filterwarnings('ignore', '.*do not.*', )\n",
    "warnings.warn('DelftStack')\n",
    "warnings.warn('Do not show this message')\n",
    "\n",
    "# Connect to Database\n",
    "\n",
    "dsn = cx_Oracle.makedsn(server, port, service_name=database)\n",
    "conn = conectar_bbdd(dsn, user, password)\n",
    "\n",
    "# Function\n",
    "\n",
    "def obtain_col_names_from_tables_db_oracle(list_tables, conn):\n",
    "    \n",
    "    # For ORACLE\n",
    "    \n",
    "    '''\n",
    "    INPUTS: Connection to bbdd and list of the tables whose columns wanne be collected\n",
    "    OUTPUT: DataFrame with a column for each table and a row for each column of the table\n",
    "    \n",
    "    '''\n",
    "    \n",
    "    consolidado = pd.DataFrame([e for e in range(100000)])\n",
    "    consolidado.columns = ['Personal_Index']\n",
    "\n",
    "    for tabla in list_tables.sort_values():\n",
    "        locals()[tabla] = pd.read_sql(f\"\"\" SELECT column_name FROM all_tab_columns WHERE table_name = '{tabla}' \"\"\", conn)\n",
    "        locals()[tabla].columns = [tabla]\n",
    "        consolidado[tabla] = pd.DataFrame(locals()[tabla][tabla].unique())\n",
    "        \n",
    "    consolidado = consolidado.drop(['Personal_Index'], axis = 1)\n",
    "    consolidado = consolidado.dropna(how = 'all')\n",
    "    \n",
    "    return consolidado"
   ]
  },
  {
   "cell_type": "markdown",
   "id": "2ec4df21-e4fd-4e22-8b52-4c3d82dd3b71",
   "metadata": {},
   "source": [
    "# PostresQL"
   ]
  },
  {
   "cell_type": "code",
   "execution_count": null,
   "id": "e0d186d6-a519-4e06-8836-2a2a243c417c",
   "metadata": {},
   "outputs": [],
   "source": [
    "# Requirements\n",
    "\n",
    "import pandas as pd\n",
    "import psycopg2\n",
    "import warnings\n",
    "warnings.filterwarnings('ignore', '.*do not.*', )\n",
    "warnings.warn('DelftStack')\n",
    "warnings.warn('Do not show this message')\n",
    "\n",
    "\n",
    "def obtain_fields_bbdd_postresql(list_tables, conn):\n",
    "\n",
    "    # For PostgreSQL\n",
    "    \n",
    "    '''\n",
    "    INPUTS: Connection to bbdd and list of the tables whose columns wanne be collected\n",
    "    OUTPUT: DataFrame with a column for each table and a row for each column of the table\n",
    "    \n",
    "    '''\n",
    "    \n",
    "    consolidado = pd.DataFrame([e for e in range(100000)])\n",
    "    consolidado.columns = ['Personal_Index']\n",
    "\n",
    "    for tabla in list_tables.sort_values():\n",
    "        \n",
    "        aux = pd.read_sql(f\"\"\"SELECT column_name FROM information_schema.columns WHERE table_schema = 'public' AND table_name   = '{tabla}'\"\"\", conn)\n",
    "        aux.columns = [tabla]\n",
    "        consolidado[tabla] = aux[tabla]\n",
    "\n",
    "    consolidado = consolidado.drop(['Personal_Index'], axis = 1)\n",
    "    consolidado = consolidado.dropna(how = 'all')\n",
    "    \n",
    "    return consolidado\n",
    "    "
   ]
  }
 ],
 "metadata": {
  "kernelspec": {
   "display_name": "Python 3 (ipykernel)",
   "language": "python",
   "name": "python3"
  },
  "language_info": {
   "codemirror_mode": {
    "name": "ipython",
    "version": 3
   },
   "file_extension": ".py",
   "mimetype": "text/x-python",
   "name": "python",
   "nbconvert_exporter": "python",
   "pygments_lexer": "ipython3",
   "version": "3.9.12"
  }
 },
 "nbformat": 4,
 "nbformat_minor": 5
}
